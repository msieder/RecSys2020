{
 "cells": [
  {
   "cell_type": "markdown",
   "metadata": {},
   "source": [
    "# Train-Test Split\n",
    "\n",
    "This notebook splits the provided data into a train, validation and a test dataset. \n",
    "\n",
    "This is done in a seperate file so that all models trained are using the same data.\n",
    "\n",
    "We split the data not only in a train and a test dataset because we also need a seperate dataset to do  hyperparameters optimization \n",
    "\n",
    "The created dataset are saved as:\n",
    "\n",
    "- data/train_df.csv\n",
    "- data/validation_df.csv\n",
    "- data/test_df.csv\n"
   ]
  },
  {
   "cell_type": "markdown",
   "metadata": {},
   "source": [
    "### Load the data\n",
    "\n",
    "The helper function below loads the raw data without any preprocessing."
   ]
  },
  {
   "cell_type": "code",
   "execution_count": 1,
   "metadata": {},
   "outputs": [],
   "source": [
    "from helper.data_loading import load_inital_dataframe"
   ]
  },
  {
   "cell_type": "code",
   "execution_count": 2,
   "metadata": {},
   "outputs": [],
   "source": [
    "file = 'data/training_sample.tsv'\n",
    "\n",
    "df = load_inital_dataframe(file)"
   ]
  },
  {
   "cell_type": "code",
   "execution_count": 3,
   "metadata": {},
   "outputs": [
    {
     "data": {
      "text/html": [
       "<div>\n",
       "<style scoped>\n",
       "    .dataframe tbody tr th:only-of-type {\n",
       "        vertical-align: middle;\n",
       "    }\n",
       "\n",
       "    .dataframe tbody tr th {\n",
       "        vertical-align: top;\n",
       "    }\n",
       "\n",
       "    .dataframe thead th {\n",
       "        text-align: right;\n",
       "    }\n",
       "</style>\n",
       "<table border=\"1\" class=\"dataframe\">\n",
       "  <thead>\n",
       "    <tr style=\"text-align: right;\">\n",
       "      <th></th>\n",
       "      <th>text_tokens</th>\n",
       "      <th>hashtags</th>\n",
       "      <th>tweet_id</th>\n",
       "      <th>present_media</th>\n",
       "      <th>present_links</th>\n",
       "      <th>present_domains</th>\n",
       "      <th>tweet_type</th>\n",
       "      <th>language</th>\n",
       "      <th>tweet_timestamp</th>\n",
       "      <th>engaged_with_user_id</th>\n",
       "      <th>...</th>\n",
       "      <th>engaging_user_id</th>\n",
       "      <th>engaging_user_follower_count</th>\n",
       "      <th>engaging_user_following_count</th>\n",
       "      <th>engaging_user_is_verified</th>\n",
       "      <th>engaging_user_account_creation</th>\n",
       "      <th>engaged_follows_engaging</th>\n",
       "      <th>reply_timestamp</th>\n",
       "      <th>retweet_timestamp</th>\n",
       "      <th>retweet_with_comment_timestamp</th>\n",
       "      <th>like_timestamp</th>\n",
       "    </tr>\n",
       "  </thead>\n",
       "  <tbody>\n",
       "    <tr>\n",
       "      <th>0</th>\n",
       "      <td>101\\t56898\\t137\\t174\\t63247\\t10526\\t131\\t3197\\...</td>\n",
       "      <td>NaN</td>\n",
       "      <td>3C21DCFB8E3FEC1CB3D2BFB413A78220</td>\n",
       "      <td>Video</td>\n",
       "      <td>NaN</td>\n",
       "      <td>NaN</td>\n",
       "      <td>Retweet</td>\n",
       "      <td>76B8A9C3013AE6414A3E6012413CDC3B</td>\n",
       "      <td>1581467323</td>\n",
       "      <td>D1AA2C85FA644D64346EDD88470525F2</td>\n",
       "      <td>...</td>\n",
       "      <td>000046C8606F1C3F5A7296222C88084B</td>\n",
       "      <td>131</td>\n",
       "      <td>2105</td>\n",
       "      <td>False</td>\n",
       "      <td>1573978269</td>\n",
       "      <td>False</td>\n",
       "      <td>NaN</td>\n",
       "      <td>NaN</td>\n",
       "      <td>NaN</td>\n",
       "      <td>NaN</td>\n",
       "    </tr>\n",
       "    <tr>\n",
       "      <th>1</th>\n",
       "      <td>101\\t102463\\t10230\\t10105\\t21040\\t10169\\t12811...</td>\n",
       "      <td>NaN</td>\n",
       "      <td>3D87CC3655C276F1771752081423B405</td>\n",
       "      <td>NaN</td>\n",
       "      <td>BB422AA00380E45F312FD2CAA75F4960</td>\n",
       "      <td>92D397F8E0F1E77B36B8C612C2C51E23</td>\n",
       "      <td>TopLevel</td>\n",
       "      <td>D3164C7FBCF2565DDF915B1B3AEFB1DC</td>\n",
       "      <td>1580975391</td>\n",
       "      <td>4DC65AC7BD963DE1F7617C047C33DE99</td>\n",
       "      <td>...</td>\n",
       "      <td>00006047187D0D18598EF12A650E1DAC</td>\n",
       "      <td>22</td>\n",
       "      <td>50</td>\n",
       "      <td>False</td>\n",
       "      <td>1340673962</td>\n",
       "      <td>False</td>\n",
       "      <td>NaN</td>\n",
       "      <td>NaN</td>\n",
       "      <td>NaN</td>\n",
       "      <td>NaN</td>\n",
       "    </tr>\n",
       "  </tbody>\n",
       "</table>\n",
       "<p>2 rows × 24 columns</p>\n",
       "</div>"
      ],
      "text/plain": [
       "                                         text_tokens hashtags  \\\n",
       "0  101\\t56898\\t137\\t174\\t63247\\t10526\\t131\\t3197\\...      NaN   \n",
       "1  101\\t102463\\t10230\\t10105\\t21040\\t10169\\t12811...      NaN   \n",
       "\n",
       "                           tweet_id present_media  \\\n",
       "0  3C21DCFB8E3FEC1CB3D2BFB413A78220         Video   \n",
       "1  3D87CC3655C276F1771752081423B405           NaN   \n",
       "\n",
       "                      present_links                   present_domains  \\\n",
       "0                               NaN                               NaN   \n",
       "1  BB422AA00380E45F312FD2CAA75F4960  92D397F8E0F1E77B36B8C612C2C51E23   \n",
       "\n",
       "  tweet_type                          language  tweet_timestamp  \\\n",
       "0    Retweet  76B8A9C3013AE6414A3E6012413CDC3B       1581467323   \n",
       "1   TopLevel  D3164C7FBCF2565DDF915B1B3AEFB1DC       1580975391   \n",
       "\n",
       "               engaged_with_user_id  ...                  engaging_user_id  \\\n",
       "0  D1AA2C85FA644D64346EDD88470525F2  ...  000046C8606F1C3F5A7296222C88084B   \n",
       "1  4DC65AC7BD963DE1F7617C047C33DE99  ...  00006047187D0D18598EF12A650E1DAC   \n",
       "\n",
       "   engaging_user_follower_count  engaging_user_following_count  \\\n",
       "0                           131                           2105   \n",
       "1                            22                             50   \n",
       "\n",
       "   engaging_user_is_verified engaging_user_account_creation  \\\n",
       "0                      False                     1573978269   \n",
       "1                      False                     1340673962   \n",
       "\n",
       "   engaged_follows_engaging  reply_timestamp  retweet_timestamp  \\\n",
       "0                     False              NaN                NaN   \n",
       "1                     False              NaN                NaN   \n",
       "\n",
       "   retweet_with_comment_timestamp  like_timestamp  \n",
       "0                             NaN             NaN  \n",
       "1                             NaN             NaN  \n",
       "\n",
       "[2 rows x 24 columns]"
      ]
     },
     "execution_count": 3,
     "metadata": {},
     "output_type": "execute_result"
    }
   ],
   "source": [
    "df.head(2)"
   ]
  },
  {
   "cell_type": "markdown",
   "metadata": {},
   "source": [
    "## Data Split\n",
    "\n",
    "In order to simulate the challenge accordingly we cannot just simply do a random split on the data, because in the challenge the data used for testing is samples in a time later (2 Weeks) than the training data.\n",
    "\n",
    "Therefore we need to split our data also on a timeline. This means that we first sort the DataFrame by the creation date of the tweets and then split the dataframe in a training and test and validation dataset."
   ]
  },
  {
   "cell_type": "code",
   "execution_count": 4,
   "metadata": {},
   "outputs": [],
   "source": [
    "from sklearn.model_selection import train_test_split"
   ]
  },
  {
   "cell_type": "code",
   "execution_count": 5,
   "metadata": {},
   "outputs": [],
   "source": [
    "df = df.sort_values(by=['tweet_timestamp'])\n",
    "train, test_val = train_test_split(df, test_size=0.3, shuffle=False)\n",
    "val, test = train_test_split(test_val, test_size=0.5, shuffle=True)"
   ]
  },
  {
   "cell_type": "code",
   "execution_count": 9,
   "metadata": {},
   "outputs": [],
   "source": [
    "train.to_csv(\"data/train.csv\", index=False)\n",
    "val.to_csv(\"data/validation.csv\", index=False)\n",
    "test.to_csv(\"data/test.csv\", index=False)"
   ]
  },
  {
   "cell_type": "markdown",
   "metadata": {},
   "source": [
    "#### Sample Loading\n",
    "The next section shows how to load the respective files."
   ]
  },
  {
   "cell_type": "code",
   "execution_count": 14,
   "metadata": {},
   "outputs": [],
   "source": [
    "from helper.data_loading import load_subsample\n",
    "train = load_subsample(\"data/train.csv\")\n",
    "val = load_subsample(\"data/validation.csv\")\n",
    "test = load_subsample(\"data/test.csv\")"
   ]
  },
  {
   "cell_type": "code",
   "execution_count": 15,
   "metadata": {},
   "outputs": [
    {
     "data": {
      "text/plain": [
       "56292   2020-02-10 19:59:59\n",
       "56293   2020-02-10 19:59:59\n",
       "56294   2020-02-10 20:00:00\n",
       "56295   2020-02-10 20:00:00\n",
       "56296   2020-02-10 20:00:01\n",
       "Name: tweet_timestamp, dtype: datetime64[ns]"
      ]
     },
     "execution_count": 15,
     "metadata": {},
     "output_type": "execute_result"
    }
   ],
   "source": [
    "train['tweet_timestamp'].tail()"
   ]
  },
  {
   "cell_type": "code",
   "execution_count": 16,
   "metadata": {},
   "outputs": [
    {
     "data": {
      "text/plain": [
       "12059   2020-02-11 23:44:32\n",
       "12060   2020-02-12 02:15:32\n",
       "12061   2020-02-12 16:43:02\n",
       "12062   2020-02-11 18:03:19\n",
       "12063   2020-02-12 10:26:01\n",
       "Name: tweet_timestamp, dtype: datetime64[ns]"
      ]
     },
     "execution_count": 16,
     "metadata": {},
     "output_type": "execute_result"
    }
   ],
   "source": [
    "val['tweet_timestamp'].tail()"
   ]
  },
  {
   "cell_type": "code",
   "execution_count": 17,
   "metadata": {},
   "outputs": [
    {
     "data": {
      "text/plain": [
       "0   2020-02-11 05:25:19\n",
       "1   2020-02-11 16:28:25\n",
       "2   2020-02-11 08:39:29\n",
       "3   2020-02-11 04:23:12\n",
       "4   2020-02-11 15:49:30\n",
       "Name: tweet_timestamp, dtype: datetime64[ns]"
      ]
     },
     "execution_count": 17,
     "metadata": {},
     "output_type": "execute_result"
    }
   ],
   "source": [
    "test['tweet_timestamp'].head()"
   ]
  },
  {
   "cell_type": "markdown",
   "metadata": {},
   "source": [
    "We can see that all the samples from the validation and test set are created later than the samples in the training set."
   ]
  },
  {
   "cell_type": "code",
   "execution_count": null,
   "metadata": {},
   "outputs": [],
   "source": []
  }
 ],
 "metadata": {
  "kernelspec": {
   "display_name": "Python 3",
   "language": "python",
   "name": "python3"
  },
  "language_info": {
   "codemirror_mode": {
    "name": "ipython",
    "version": 3
   },
   "file_extension": ".py",
   "mimetype": "text/x-python",
   "name": "python",
   "nbconvert_exporter": "python",
   "pygments_lexer": "ipython3",
   "version": "3.6.9"
  }
 },
 "nbformat": 4,
 "nbformat_minor": 4
}
