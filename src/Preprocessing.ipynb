{
 "cells": [
  {
   "cell_type": "markdown",
   "metadata": {},
   "source": [
    "# Baseline Approach \n",
    "\n",
    "This Notebook tries to implement the Baseline Approach described in the RecSys Challenge 2020 Paper (https://arxiv.org/abs/2004.13715). \n",
    "\n",
    "First we are going to read in the dataset (train and validation) and do some preprocessing in order to fit a model."
   ]
  },
  {
   "cell_type": "markdown",
   "metadata": {},
   "source": [
    "### Load Training Data"
   ]
  },
  {
   "cell_type": "code",
   "execution_count": 1,
   "metadata": {},
   "outputs": [],
   "source": [
    "import pandas as pd\n",
    "import numpy as np\n",
    "import scipy.sparse as sp\n",
    "\n",
    "\n",
    "from helper.data_loading import load_subsample"
   ]
  },
  {
   "cell_type": "code",
   "execution_count": 2,
   "metadata": {},
   "outputs": [],
   "source": [
    "train_df = load_subsample(\"data/train.csv\")"
   ]
  },
  {
   "cell_type": "code",
   "execution_count": 3,
   "metadata": {},
   "outputs": [
    {
     "data": {
      "text/html": [
       "<div>\n",
       "<style scoped>\n",
       "    .dataframe tbody tr th:only-of-type {\n",
       "        vertical-align: middle;\n",
       "    }\n",
       "\n",
       "    .dataframe tbody tr th {\n",
       "        vertical-align: top;\n",
       "    }\n",
       "\n",
       "    .dataframe thead th {\n",
       "        text-align: right;\n",
       "    }\n",
       "</style>\n",
       "<table border=\"1\" class=\"dataframe\">\n",
       "  <thead>\n",
       "    <tr style=\"text-align: right;\">\n",
       "      <th></th>\n",
       "      <th>text_tokens</th>\n",
       "      <th>hashtags</th>\n",
       "      <th>tweet_id</th>\n",
       "      <th>present_media</th>\n",
       "      <th>present_links</th>\n",
       "      <th>present_domains</th>\n",
       "      <th>tweet_type</th>\n",
       "      <th>language</th>\n",
       "      <th>tweet_timestamp</th>\n",
       "      <th>engaged_with_user_id</th>\n",
       "      <th>engaged_with_user_follower_count</th>\n",
       "      <th>engaged_with_user_following_count</th>\n",
       "      <th>engaged_with_user_is_verified</th>\n",
       "      <th>engaged_with_user_account_creation</th>\n",
       "      <th>engaging_user_id</th>\n",
       "      <th>engaging_user_follower_count</th>\n",
       "      <th>engaging_user_following_count</th>\n",
       "      <th>engaging_user_is_verified</th>\n",
       "      <th>engaging_user_account_creation</th>\n",
       "      <th>engaged_follows_engaging</th>\n",
       "      <th>reply_timestamp</th>\n",
       "      <th>retweet_timestamp</th>\n",
       "      <th>retweet_with_comment_timestamp</th>\n",
       "      <th>like_timestamp</th>\n",
       "    </tr>\n",
       "  </thead>\n",
       "  <tbody>\n",
       "    <tr>\n",
       "      <th>0</th>\n",
       "      <td>101 105549 10133 117 10105 100 11704 71136 104...</td>\n",
       "      <td>ABCED825B354CDD12A92D0C05686C7B5</td>\n",
       "      <td>4B3C351F949F3322D596E95B09B80008</td>\n",
       "      <td>[Video]</td>\n",
       "      <td>NaN</td>\n",
       "      <td>NaN</td>\n",
       "      <td>TopLevel</td>\n",
       "      <td>D3164C7FBCF2565DDF915B1B3AEFB1DC</td>\n",
       "      <td>2020-02-06</td>\n",
       "      <td>F09E66BE3C210A32379427220DE06E91</td>\n",
       "      <td>17198316</td>\n",
       "      <td>1122</td>\n",
       "      <td>True</td>\n",
       "      <td>2007-03-15 06:22:13</td>\n",
       "      <td>04F8F1705C61E1A18B80DC9748CE02FF</td>\n",
       "      <td>37469</td>\n",
       "      <td>2019</td>\n",
       "      <td>False</td>\n",
       "      <td>2014-06-29 18:09:00</td>\n",
       "      <td>False</td>\n",
       "      <td>NaT</td>\n",
       "      <td>NaT</td>\n",
       "      <td>NaT</td>\n",
       "      <td>NaT</td>\n",
       "    </tr>\n",
       "    <tr>\n",
       "      <th>1</th>\n",
       "      <td>101 14120 131 120 120 188 119 11170 120 155 11...</td>\n",
       "      <td></td>\n",
       "      <td>2E76E8E1F009D7954B07AF6C69650D07</td>\n",
       "      <td>[Video]</td>\n",
       "      <td>NaN</td>\n",
       "      <td>NaN</td>\n",
       "      <td>TopLevel</td>\n",
       "      <td>B9175601E87101A984A50F8A62A1C374</td>\n",
       "      <td>2020-02-06</td>\n",
       "      <td>CAC0F5C16EF014303E9864AF6599E038</td>\n",
       "      <td>95993</td>\n",
       "      <td>3</td>\n",
       "      <td>False</td>\n",
       "      <td>2019-06-28 14:39:38</td>\n",
       "      <td>00BF7B74D57FD5D9DDF0919F3E612048</td>\n",
       "      <td>175</td>\n",
       "      <td>144</td>\n",
       "      <td>False</td>\n",
       "      <td>2019-05-27 05:35:30</td>\n",
       "      <td>False</td>\n",
       "      <td>NaT</td>\n",
       "      <td>NaT</td>\n",
       "      <td>NaT</td>\n",
       "      <td>NaT</td>\n",
       "    </tr>\n",
       "    <tr>\n",
       "      <th>2</th>\n",
       "      <td>101 58573 24951 11369 38351 11090 4476 4348 10...</td>\n",
       "      <td>91BDC623D8F241C76449E29368ACC270 857BAD78736C4...</td>\n",
       "      <td>D7F4F31D796404E8F5E2BAC79954EC4F</td>\n",
       "      <td>[GIF]</td>\n",
       "      <td>[A0ECAE935A744B2AEFB7D185E14DF9CF]</td>\n",
       "      <td>[7EA44583A7695522550E85C618413F3E]</td>\n",
       "      <td>TopLevel</td>\n",
       "      <td>22C448FF81263D4BAF2A176145EE9EAD</td>\n",
       "      <td>2020-02-06</td>\n",
       "      <td>6798E612759FE86EBE05CA137BEE78EB</td>\n",
       "      <td>73720</td>\n",
       "      <td>5</td>\n",
       "      <td>True</td>\n",
       "      <td>2013-03-10 05:12:12</td>\n",
       "      <td>00494200F720D728953E799EA753188D</td>\n",
       "      <td>62</td>\n",
       "      <td>451</td>\n",
       "      <td>False</td>\n",
       "      <td>2017-11-11 09:46:43</td>\n",
       "      <td>False</td>\n",
       "      <td>NaT</td>\n",
       "      <td>NaT</td>\n",
       "      <td>NaT</td>\n",
       "      <td>NaT</td>\n",
       "    </tr>\n",
       "    <tr>\n",
       "      <th>3</th>\n",
       "      <td>101 10747 10124 32650 97038 19718 10111 11951 ...</td>\n",
       "      <td>11DD75033652B845468C84856328E657</td>\n",
       "      <td>9E5CECEAC7D51D0A99FA841150DAD0DC</td>\n",
       "      <td>[]</td>\n",
       "      <td>[D334E773309486B6BF6899502C54D14E]</td>\n",
       "      <td>[B3206482C1A292DC87C9E4F7CF05A5E4]</td>\n",
       "      <td>TopLevel</td>\n",
       "      <td>D3164C7FBCF2565DDF915B1B3AEFB1DC</td>\n",
       "      <td>2020-02-06</td>\n",
       "      <td>1E94943C521EDC5FD0C1AAF190563418</td>\n",
       "      <td>438860</td>\n",
       "      <td>159</td>\n",
       "      <td>True</td>\n",
       "      <td>2016-11-27 18:12:08</td>\n",
       "      <td>01DF9BB8C5C6A703493309A5F6C156A9</td>\n",
       "      <td>14</td>\n",
       "      <td>199</td>\n",
       "      <td>False</td>\n",
       "      <td>2018-01-16 21:41:17</td>\n",
       "      <td>False</td>\n",
       "      <td>NaT</td>\n",
       "      <td>NaT</td>\n",
       "      <td>NaT</td>\n",
       "      <td>NaT</td>\n",
       "    </tr>\n",
       "    <tr>\n",
       "      <th>4</th>\n",
       "      <td>101 29005 10107 53499 29837 29284 13845 10225 ...</td>\n",
       "      <td></td>\n",
       "      <td>FD1A4958DA5DE8DC3930346A7D1A585C</td>\n",
       "      <td>[]</td>\n",
       "      <td>[B06C08BF4E54F3CA3AAEEF3E3CBA77B7]</td>\n",
       "      <td>[7C36CB8CD2F180359FFE793D870E365A]</td>\n",
       "      <td>TopLevel</td>\n",
       "      <td>ECED8A16BE2A5E8871FD55F4842F16B1</td>\n",
       "      <td>2020-02-06</td>\n",
       "      <td>A5D608BDB5F093C3FD3EDEDA7C517D84</td>\n",
       "      <td>720143</td>\n",
       "      <td>328</td>\n",
       "      <td>True</td>\n",
       "      <td>2009-01-27 19:51:14</td>\n",
       "      <td>002E9B36C19A48A1825F092352A4DD4F</td>\n",
       "      <td>206</td>\n",
       "      <td>1221</td>\n",
       "      <td>False</td>\n",
       "      <td>2014-12-19 02:05:42</td>\n",
       "      <td>False</td>\n",
       "      <td>NaT</td>\n",
       "      <td>NaT</td>\n",
       "      <td>NaT</td>\n",
       "      <td>NaT</td>\n",
       "    </tr>\n",
       "  </tbody>\n",
       "</table>\n",
       "</div>"
      ],
      "text/plain": [
       "                                         text_tokens  \\\n",
       "0  101 105549 10133 117 10105 100 11704 71136 104...   \n",
       "1  101 14120 131 120 120 188 119 11170 120 155 11...   \n",
       "2  101 58573 24951 11369 38351 11090 4476 4348 10...   \n",
       "3  101 10747 10124 32650 97038 19718 10111 11951 ...   \n",
       "4  101 29005 10107 53499 29837 29284 13845 10225 ...   \n",
       "\n",
       "                                            hashtags  \\\n",
       "0                   ABCED825B354CDD12A92D0C05686C7B5   \n",
       "1                                                      \n",
       "2  91BDC623D8F241C76449E29368ACC270 857BAD78736C4...   \n",
       "3                   11DD75033652B845468C84856328E657   \n",
       "4                                                      \n",
       "\n",
       "                           tweet_id present_media  \\\n",
       "0  4B3C351F949F3322D596E95B09B80008       [Video]   \n",
       "1  2E76E8E1F009D7954B07AF6C69650D07       [Video]   \n",
       "2  D7F4F31D796404E8F5E2BAC79954EC4F         [GIF]   \n",
       "3  9E5CECEAC7D51D0A99FA841150DAD0DC            []   \n",
       "4  FD1A4958DA5DE8DC3930346A7D1A585C            []   \n",
       "\n",
       "                        present_links                     present_domains  \\\n",
       "0                                 NaN                                 NaN   \n",
       "1                                 NaN                                 NaN   \n",
       "2  [A0ECAE935A744B2AEFB7D185E14DF9CF]  [7EA44583A7695522550E85C618413F3E]   \n",
       "3  [D334E773309486B6BF6899502C54D14E]  [B3206482C1A292DC87C9E4F7CF05A5E4]   \n",
       "4  [B06C08BF4E54F3CA3AAEEF3E3CBA77B7]  [7C36CB8CD2F180359FFE793D870E365A]   \n",
       "\n",
       "  tweet_type                          language tweet_timestamp  \\\n",
       "0   TopLevel  D3164C7FBCF2565DDF915B1B3AEFB1DC      2020-02-06   \n",
       "1   TopLevel  B9175601E87101A984A50F8A62A1C374      2020-02-06   \n",
       "2   TopLevel  22C448FF81263D4BAF2A176145EE9EAD      2020-02-06   \n",
       "3   TopLevel  D3164C7FBCF2565DDF915B1B3AEFB1DC      2020-02-06   \n",
       "4   TopLevel  ECED8A16BE2A5E8871FD55F4842F16B1      2020-02-06   \n",
       "\n",
       "               engaged_with_user_id  engaged_with_user_follower_count  \\\n",
       "0  F09E66BE3C210A32379427220DE06E91                          17198316   \n",
       "1  CAC0F5C16EF014303E9864AF6599E038                             95993   \n",
       "2  6798E612759FE86EBE05CA137BEE78EB                             73720   \n",
       "3  1E94943C521EDC5FD0C1AAF190563418                            438860   \n",
       "4  A5D608BDB5F093C3FD3EDEDA7C517D84                            720143   \n",
       "\n",
       "   engaged_with_user_following_count  engaged_with_user_is_verified  \\\n",
       "0                               1122                           True   \n",
       "1                                  3                          False   \n",
       "2                                  5                           True   \n",
       "3                                159                           True   \n",
       "4                                328                           True   \n",
       "\n",
       "  engaged_with_user_account_creation                  engaging_user_id  \\\n",
       "0                2007-03-15 06:22:13  04F8F1705C61E1A18B80DC9748CE02FF   \n",
       "1                2019-06-28 14:39:38  00BF7B74D57FD5D9DDF0919F3E612048   \n",
       "2                2013-03-10 05:12:12  00494200F720D728953E799EA753188D   \n",
       "3                2016-11-27 18:12:08  01DF9BB8C5C6A703493309A5F6C156A9   \n",
       "4                2009-01-27 19:51:14  002E9B36C19A48A1825F092352A4DD4F   \n",
       "\n",
       "   engaging_user_follower_count  engaging_user_following_count  \\\n",
       "0                         37469                           2019   \n",
       "1                           175                            144   \n",
       "2                            62                            451   \n",
       "3                            14                            199   \n",
       "4                           206                           1221   \n",
       "\n",
       "   engaging_user_is_verified engaging_user_account_creation  \\\n",
       "0                      False            2014-06-29 18:09:00   \n",
       "1                      False            2019-05-27 05:35:30   \n",
       "2                      False            2017-11-11 09:46:43   \n",
       "3                      False            2018-01-16 21:41:17   \n",
       "4                      False            2014-12-19 02:05:42   \n",
       "\n",
       "   engaged_follows_engaging reply_timestamp retweet_timestamp  \\\n",
       "0                     False             NaT               NaT   \n",
       "1                     False             NaT               NaT   \n",
       "2                     False             NaT               NaT   \n",
       "3                     False             NaT               NaT   \n",
       "4                     False             NaT               NaT   \n",
       "\n",
       "  retweet_with_comment_timestamp like_timestamp  \n",
       "0                            NaT            NaT  \n",
       "1                            NaT            NaT  \n",
       "2                            NaT            NaT  \n",
       "3                            NaT            NaT  \n",
       "4                            NaT            NaT  "
      ]
     },
     "execution_count": 3,
     "metadata": {},
     "output_type": "execute_result"
    }
   ],
   "source": [
    "pd.set_option('display.max_columns', None)\n",
    "train_df.head()"
   ]
  },
  {
   "cell_type": "markdown",
   "metadata": {},
   "source": [
    "## Preprocessing\n",
    "This Part is used to preprocess the data.\n",
    "The steps performed are:\n",
    "\n",
    "1) Encode the Response Variables from NaN or Timestamps to 0 or 1 respectively\n",
    "\n",
    "2) One-Hot Encode the Tweet Features\n",
    "    - Language\n",
    "    - Present Media\n",
    "    - Tweet Type\n",
    "    \n",
    "3) TF-IDF Representation of the Text Tokens\n",
    "\n",
    "4) TF-IDF Representation of the Hashtags\n",
    "\n",
    "5) Convert the IDs to Integers\n",
    "    - Tweet ID\n",
    "    - Engaged with User ID\n",
    "    - Engaging User ID\n",
    "\n",
    "6) Convert Boolean Values to 0 / 1\n",
    "    - Engaged with User is verified\n",
    "    - Engaging User is verified\n",
    "    - Engaged follows engaging\n",
    "    \n",
    "7) Convert to Variable is_present(1) or is_not_present(0)\n",
    "    - present Links\n",
    "    - present Domains\n",
    "   \n",
    " 8) Concatenate all Features"
   ]
  },
  {
   "cell_type": "markdown",
   "metadata": {},
   "source": [
    "#### 1) Encode the Response Variables from NaN or Timestamps to 0 or 1 respectively"
   ]
  },
  {
   "cell_type": "code",
   "execution_count": 4,
   "metadata": {},
   "outputs": [],
   "source": [
    "reply = train_df[\"reply_timestamp\"].notnull().astype(int).to_numpy()\n",
    "retweet = train_df[\"retweet_timestamp\"].notnull().astype(int).to_numpy()\n",
    "retweet_with_comment = train_df[\"retweet_with_comment_timestamp\"].notnull().astype(int).to_numpy()\n",
    "like = train_df[\"like_timestamp\"].notnull().astype(int).to_numpy()"
   ]
  },
  {
   "cell_type": "code",
   "execution_count": 5,
   "metadata": {},
   "outputs": [],
   "source": [
    "response = np.hstack((reply, retweet, retweet_with_comment,like))"
   ]
  },
  {
   "cell_type": "markdown",
   "metadata": {},
   "source": [
    "#### 2) One-Hot Encode the Tweet Features"
   ]
  },
  {
   "cell_type": "code",
   "execution_count": 6,
   "metadata": {},
   "outputs": [],
   "source": [
    "from sklearn.preprocessing import OneHotEncoder\n",
    "\n",
    "language_encoder = OneHotEncoder()\n",
    "language = language_encoder.fit_transform(train_df[\"language\"].to_numpy().reshape(-1,1))"
   ]
  },
  {
   "cell_type": "code",
   "execution_count": 7,
   "metadata": {},
   "outputs": [],
   "source": [
    "tweet_type_encoder = OneHotEncoder()\n",
    "tweet_type = tweet_type_encoder.fit_transform(train_df[\"tweet_type\"].to_numpy().reshape(-1,1))"
   ]
  },
  {
   "cell_type": "code",
   "execution_count": 8,
   "metadata": {},
   "outputs": [],
   "source": [
    "from sklearn.preprocessing import MultiLabelBinarizer\n",
    "\n",
    "present_media_encoder = MultiLabelBinarizer(sparse_output=False)\n",
    "present_media = present_media_encoder.fit_transform(train_df[\"present_media\"])"
   ]
  },
  {
   "cell_type": "code",
   "execution_count": 9,
   "metadata": {},
   "outputs": [],
   "source": [
    "tweet_features = sp.hstack([language, tweet_type, present_media])"
   ]
  },
  {
   "cell_type": "markdown",
   "metadata": {},
   "source": [
    "#### 3) TF-IDF Representation of the Text Tokens"
   ]
  },
  {
   "cell_type": "code",
   "execution_count": 10,
   "metadata": {},
   "outputs": [],
   "source": [
    "from sklearn.feature_extraction.text import TfidfVectorizer\n",
    "text_tfidf = TfidfVectorizer()\n",
    "text_tokens = text_tfidf.fit_transform(train_df['text_tokens'])"
   ]
  },
  {
   "cell_type": "markdown",
   "metadata": {},
   "source": [
    "#### 4) TF-IDF Representation of the Hashtags"
   ]
  },
  {
   "cell_type": "code",
   "execution_count": 11,
   "metadata": {},
   "outputs": [],
   "source": [
    "hashtags_tfidf = TfidfVectorizer()\n",
    "hashtags = hashtags_tfidf.fit_transform(train_df['hashtags'])"
   ]
  },
  {
   "cell_type": "code",
   "execution_count": 12,
   "metadata": {},
   "outputs": [],
   "source": [
    "tweet_features = sp.hstack((text_tokens,hashtags))  # NOT np.vstack"
   ]
  },
  {
   "cell_type": "markdown",
   "metadata": {},
   "source": [
    "#### 5) Convert the IDs to Integers (Bukets)"
   ]
  },
  {
   "cell_type": "code",
   "execution_count": 13,
   "metadata": {},
   "outputs": [],
   "source": [
    "train_df['tweet_id'] = train_df[\"tweet_id\"].map(hash)\n",
    "train_df['engaged_with_user_id'] = train_df[\"engaged_with_user_id\"].map(hash)\n",
    "train_df['engaging_user_id'] = train_df[\"engaging_user_id\"].map(hash)"
   ]
  },
  {
   "cell_type": "code",
   "execution_count": 14,
   "metadata": {},
   "outputs": [],
   "source": [
    "from sklearn.preprocessing import KBinsDiscretizer\n",
    "tweet_discretizer = KBinsDiscretizer(n_bins=50)\n",
    "tweet_id = tweet_discretizer.fit_transform(train_df['tweet_id'].to_numpy().reshape(-1, 1))"
   ]
  },
  {
   "cell_type": "code",
   "execution_count": 15,
   "metadata": {},
   "outputs": [],
   "source": [
    "engaged_with_user_discretizer = KBinsDiscretizer(n_bins=50)\n",
    "engaged_with_user_id = engaged_with_user_discretizer.fit_transform(train_df['engaged_with_user_id'].to_numpy().reshape(-1, 1))"
   ]
  },
  {
   "cell_type": "code",
   "execution_count": 16,
   "metadata": {},
   "outputs": [],
   "source": [
    "engaging_user_discretizer = KBinsDiscretizer(n_bins=50)\n",
    "engaging_user_id = engaging_user_discretizer.fit_transform(train_df['engaging_user_id'].to_numpy().reshape(-1, 1))"
   ]
  },
  {
   "cell_type": "code",
   "execution_count": 17,
   "metadata": {},
   "outputs": [],
   "source": [
    "id_features = sp.hstack([tweet_id, engaged_with_user_id, engaging_user_id])"
   ]
  },
  {
   "cell_type": "markdown",
   "metadata": {},
   "source": [
    "#### 6) Convert Boolean Values to 0 / 1"
   ]
  },
  {
   "cell_type": "code",
   "execution_count": 18,
   "metadata": {},
   "outputs": [],
   "source": [
    "engaged_with_user_is_verified = train_df[\"engaged_with_user_is_verified\"].astype(int).to_numpy()\n",
    "engaging_user_is_verified = train_df[\"engaging_user_is_verified\"].astype(int).to_numpy()\n",
    "engaged_follows_engaging = train_df[\"engaged_follows_engaging\"].astype(int).to_numpy()"
   ]
  },
  {
   "cell_type": "code",
   "execution_count": 19,
   "metadata": {},
   "outputs": [],
   "source": [
    "boolean_features = np.column_stack([engaged_with_user_is_verified,engaging_user_is_verified, engaged_follows_engaging ])"
   ]
  },
  {
   "cell_type": "markdown",
   "metadata": {},
   "source": [
    "#### 7) Convert to Variable is_present(1) or is_not_present(0)"
   ]
  },
  {
   "cell_type": "code",
   "execution_count": 20,
   "metadata": {},
   "outputs": [],
   "source": [
    "present_links = train_df[\"present_links\"].notnull().astype(int).to_numpy()\n",
    "present_domains = train_df[\"present_domains\"].notnull().astype(int).to_numpy()"
   ]
  },
  {
   "cell_type": "code",
   "execution_count": 21,
   "metadata": {},
   "outputs": [],
   "source": [
    "present_features = np.column_stack([present_links,present_domains ])"
   ]
  },
  {
   "cell_type": "markdown",
   "metadata": {},
   "source": [
    "#### 8) Concatenate all Features"
   ]
  },
  {
   "cell_type": "code",
   "execution_count": 22,
   "metadata": {},
   "outputs": [
    {
     "data": {
      "text/plain": [
       "(56297, 68331)"
      ]
     },
     "execution_count": 22,
     "metadata": {},
     "output_type": "execute_result"
    }
   ],
   "source": [
    "tweet_features.shape"
   ]
  },
  {
   "cell_type": "code",
   "execution_count": 23,
   "metadata": {},
   "outputs": [
    {
     "data": {
      "text/plain": [
       "(56297, 150)"
      ]
     },
     "execution_count": 23,
     "metadata": {},
     "output_type": "execute_result"
    }
   ],
   "source": [
    "id_features.shape"
   ]
  },
  {
   "cell_type": "code",
   "execution_count": 24,
   "metadata": {},
   "outputs": [
    {
     "data": {
      "text/plain": [
       "(56297, 3)"
      ]
     },
     "execution_count": 24,
     "metadata": {},
     "output_type": "execute_result"
    }
   ],
   "source": [
    "boolean_features.shape"
   ]
  },
  {
   "cell_type": "code",
   "execution_count": 25,
   "metadata": {},
   "outputs": [
    {
     "data": {
      "text/plain": [
       "(56297, 2)"
      ]
     },
     "execution_count": 25,
     "metadata": {},
     "output_type": "execute_result"
    }
   ],
   "source": [
    "present_features.shape"
   ]
  },
  {
   "cell_type": "code",
   "execution_count": 26,
   "metadata": {},
   "outputs": [],
   "source": [
    "X_train = sp.hstack([tweet_features, id_features, boolean_features, present_features])"
   ]
  },
  {
   "cell_type": "code",
   "execution_count": 27,
   "metadata": {},
   "outputs": [
    {
     "data": {
      "text/plain": [
       "(56297, 68486)"
      ]
     },
     "execution_count": 27,
     "metadata": {},
     "output_type": "execute_result"
    }
   ],
   "source": [
    "X_train.shape"
   ]
  },
  {
   "cell_type": "code",
   "execution_count": 28,
   "metadata": {},
   "outputs": [],
   "source": [
    "Y_train = response"
   ]
  },
  {
   "cell_type": "markdown",
   "metadata": {},
   "source": [
    "### Save Pipeline Components as Dict"
   ]
  },
  {
   "cell_type": "code",
   "execution_count": 29,
   "metadata": {},
   "outputs": [],
   "source": [
    "components = {\n",
    "    \"language_encoder\": language_encoder,\n",
    "    \"tweet_type_encoder\": tweet_type_encoder,\n",
    "    \"present_media_encoder\": present_media_encoder,\n",
    "    \"text_tfidf\": text_tfidf,\n",
    "    \"hashtags_tfidf\": hashtags_tfidf,\n",
    "    \"tweet_discretizer\": tweet_discretizer,\n",
    "    \"engaged_with_user_discretizer\": engaged_with_user_discretizer,\n",
    "    \"engaging_user_discretizer\": engaging_user_discretizer\n",
    "}"
   ]
  },
  {
   "cell_type": "code",
   "execution_count": 30,
   "metadata": {},
   "outputs": [],
   "source": [
    "import pickle\n",
    "with open(\"pipeline/pipeline_components.pkl\", \"wb\") as file:\n",
    "    pickle.dump(components, file)"
   ]
  },
  {
   "cell_type": "code",
   "execution_count": null,
   "metadata": {},
   "outputs": [],
   "source": []
  },
  {
   "cell_type": "markdown",
   "metadata": {},
   "source": [
    "#### How to use the helper file to load the validation/test data with the fitted pipeline components"
   ]
  },
  {
   "cell_type": "code",
   "execution_count": 33,
   "metadata": {},
   "outputs": [],
   "source": [
    "from helper.preprocessing import preprocess_dataset"
   ]
  },
  {
   "cell_type": "code",
   "execution_count": 36,
   "metadata": {},
   "outputs": [],
   "source": [
    "dev_df = load_subsample(\"data/validation.csv\")\n",
    "\n",
    "X_val, y_val = preprocess_dataset(dev_df, \"pipeline/pipeline_components.pkl\", load=True)"
   ]
  },
  {
   "cell_type": "code",
   "execution_count": 37,
   "metadata": {},
   "outputs": [
    {
     "data": {
      "text/plain": [
       "(12064, 68486)"
      ]
     },
     "execution_count": 37,
     "metadata": {},
     "output_type": "execute_result"
    }
   ],
   "source": [
    "X_val.shape"
   ]
  },
  {
   "cell_type": "code",
   "execution_count": null,
   "metadata": {},
   "outputs": [],
   "source": []
  }
 ],
 "metadata": {
  "kernelspec": {
   "display_name": "Python 3",
   "language": "python",
   "name": "python3"
  },
  "language_info": {
   "codemirror_mode": {
    "name": "ipython",
    "version": 3
   },
   "file_extension": ".py",
   "mimetype": "text/x-python",
   "name": "python",
   "nbconvert_exporter": "python",
   "pygments_lexer": "ipython3",
   "version": "3.6.9"
  }
 },
 "nbformat": 4,
 "nbformat_minor": 4
}
